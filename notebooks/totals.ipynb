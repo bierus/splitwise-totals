{
 "cells": [
  {
   "cell_type": "code",
   "execution_count": 51,
   "id": "0f0a07d9-f02d-494b-a1ea-764a60f8730e",
   "metadata": {},
   "outputs": [],
   "source": [
    "import pandas as pd\n",
    "import plotly.express as px"
   ]
  },
  {
   "cell_type": "code",
   "execution_count": 32,
   "id": "97ef84d1-7a40-4632-a0f1-6a86a256fe96",
   "metadata": {},
   "outputs": [
    {
     "data": {
      "text/html": [
       "<div>\n",
       "<style scoped>\n",
       "    .dataframe tbody tr th:only-of-type {\n",
       "        vertical-align: middle;\n",
       "    }\n",
       "\n",
       "    .dataframe tbody tr th {\n",
       "        vertical-align: top;\n",
       "    }\n",
       "\n",
       "    .dataframe thead th {\n",
       "        text-align: right;\n",
       "    }\n",
       "</style>\n",
       "<table border=\"1\" class=\"dataframe\">\n",
       "  <thead>\n",
       "    <tr style=\"text-align: right;\">\n",
       "      <th></th>\n",
       "      <th>Date</th>\n",
       "      <th>Description</th>\n",
       "      <th>Category</th>\n",
       "      <th>Cost</th>\n",
       "      <th>Currency</th>\n",
       "      <th>Michał Bieroński</th>\n",
       "      <th>Anna Bierońska</th>\n",
       "    </tr>\n",
       "  </thead>\n",
       "  <tbody>\n",
       "    <tr>\n",
       "      <th>0</th>\n",
       "      <td>2018-07-27</td>\n",
       "      <td>Zakupy</td>\n",
       "      <td>General</td>\n",
       "      <td>116.00</td>\n",
       "      <td>PLN</td>\n",
       "      <td>-58.00</td>\n",
       "      <td>58.00</td>\n",
       "    </tr>\n",
       "    <tr>\n",
       "      <th>1</th>\n",
       "      <td>2018-07-27</td>\n",
       "      <td>Sandały</td>\n",
       "      <td>General</td>\n",
       "      <td>130.00</td>\n",
       "      <td>PLN</td>\n",
       "      <td>-130.00</td>\n",
       "      <td>130.00</td>\n",
       "    </tr>\n",
       "    <tr>\n",
       "      <th>2</th>\n",
       "      <td>2018-07-27</td>\n",
       "      <td>Skarpetki tkmaxx</td>\n",
       "      <td>General</td>\n",
       "      <td>40.00</td>\n",
       "      <td>PLN</td>\n",
       "      <td>-40.00</td>\n",
       "      <td>40.00</td>\n",
       "    </tr>\n",
       "    <tr>\n",
       "      <th>3</th>\n",
       "      <td>2018-07-27</td>\n",
       "      <td>Uber</td>\n",
       "      <td>Taxi</td>\n",
       "      <td>10.00</td>\n",
       "      <td>PLN</td>\n",
       "      <td>-5.00</td>\n",
       "      <td>5.00</td>\n",
       "    </tr>\n",
       "    <tr>\n",
       "      <th>4</th>\n",
       "      <td>2018-07-27</td>\n",
       "      <td>Bilety do Katowic</td>\n",
       "      <td>General</td>\n",
       "      <td>32.00</td>\n",
       "      <td>PLN</td>\n",
       "      <td>-16.00</td>\n",
       "      <td>16.00</td>\n",
       "    </tr>\n",
       "    <tr>\n",
       "      <th>...</th>\n",
       "      <td>...</td>\n",
       "      <td>...</td>\n",
       "      <td>...</td>\n",
       "      <td>...</td>\n",
       "      <td>...</td>\n",
       "      <td>...</td>\n",
       "      <td>...</td>\n",
       "    </tr>\n",
       "    <tr>\n",
       "      <th>3832</th>\n",
       "      <td>2025-01-09</td>\n",
       "      <td>Zooplus</td>\n",
       "      <td>Pets</td>\n",
       "      <td>589.20</td>\n",
       "      <td>PLN</td>\n",
       "      <td>-294.60</td>\n",
       "      <td>294.60</td>\n",
       "    </tr>\n",
       "    <tr>\n",
       "      <th>3833</th>\n",
       "      <td>2025-01-10</td>\n",
       "      <td>Organizer do szuflady</td>\n",
       "      <td>Furniture</td>\n",
       "      <td>111.67</td>\n",
       "      <td>PLN</td>\n",
       "      <td>0.00</td>\n",
       "      <td>0.00</td>\n",
       "    </tr>\n",
       "    <tr>\n",
       "      <th>3834</th>\n",
       "      <td>2025-01-11</td>\n",
       "      <td>Chleb</td>\n",
       "      <td>Groceries</td>\n",
       "      <td>17.00</td>\n",
       "      <td>PLN</td>\n",
       "      <td>-8.50</td>\n",
       "      <td>8.50</td>\n",
       "    </tr>\n",
       "    <tr>\n",
       "      <th>3835</th>\n",
       "      <td>2025-01-22</td>\n",
       "      <td>Ubezpieczenie OC samochodu</td>\n",
       "      <td>Insurance</td>\n",
       "      <td>523.00</td>\n",
       "      <td>PLN</td>\n",
       "      <td>-261.50</td>\n",
       "      <td>261.50</td>\n",
       "    </tr>\n",
       "    <tr>\n",
       "      <th>3836</th>\n",
       "      <td>2025-01-11</td>\n",
       "      <td>Total balance</td>\n",
       "      <td></td>\n",
       "      <td></td>\n",
       "      <td>PLN</td>\n",
       "      <td>-668.72</td>\n",
       "      <td>668.72</td>\n",
       "    </tr>\n",
       "  </tbody>\n",
       "</table>\n",
       "<p>3837 rows × 7 columns</p>\n",
       "</div>"
      ],
      "text/plain": [
       "            Date                 Description   Category    Cost Currency  \\\n",
       "0     2018-07-27                      Zakupy    General  116.00      PLN   \n",
       "1     2018-07-27                     Sandały    General  130.00      PLN   \n",
       "2     2018-07-27            Skarpetki tkmaxx    General   40.00      PLN   \n",
       "3     2018-07-27                        Uber       Taxi   10.00      PLN   \n",
       "4     2018-07-27           Bilety do Katowic    General   32.00      PLN   \n",
       "...          ...                         ...        ...     ...      ...   \n",
       "3832  2025-01-09                     Zooplus       Pets  589.20      PLN   \n",
       "3833  2025-01-10       Organizer do szuflady  Furniture  111.67      PLN   \n",
       "3834  2025-01-11                       Chleb  Groceries   17.00      PLN   \n",
       "3835  2025-01-22  Ubezpieczenie OC samochodu  Insurance  523.00      PLN   \n",
       "3836  2025-01-11               Total balance                         PLN   \n",
       "\n",
       "      Michał Bieroński  Anna Bierońska  \n",
       "0               -58.00           58.00  \n",
       "1              -130.00          130.00  \n",
       "2               -40.00           40.00  \n",
       "3                -5.00            5.00  \n",
       "4               -16.00           16.00  \n",
       "...                ...             ...  \n",
       "3832           -294.60          294.60  \n",
       "3833              0.00            0.00  \n",
       "3834             -8.50            8.50  \n",
       "3835           -261.50          261.50  \n",
       "3836           -668.72          668.72  \n",
       "\n",
       "[3837 rows x 7 columns]"
      ]
     },
     "execution_count": 32,
     "metadata": {},
     "output_type": "execute_result"
    }
   ],
   "source": [
    "df = pd.read_csv(\"data/dom_2025-01-11_export.csv\")\n",
    "df"
   ]
  },
  {
   "cell_type": "code",
   "execution_count": 33,
   "id": "b7de73e5-9b0c-4ac1-8b1d-6af884d99095",
   "metadata": {},
   "outputs": [
    {
     "data": {
      "text/plain": [
       "Date                 object\n",
       "Description          object\n",
       "Category             object\n",
       "Cost                 object\n",
       "Currency             object\n",
       "Michał Bieroński    float64\n",
       "Anna Bierońska      float64\n",
       "dtype: object"
      ]
     },
     "execution_count": 33,
     "metadata": {},
     "output_type": "execute_result"
    }
   ],
   "source": [
    "df.dtypes"
   ]
  },
  {
   "cell_type": "code",
   "execution_count": 34,
   "id": "505f4572-4bef-4eef-b432-ab4a4cb28673",
   "metadata": {},
   "outputs": [],
   "source": [
    "df = df[:-1]\n",
    "df = df[df[\"Category\"] != \"Payment\"]"
   ]
  },
  {
   "cell_type": "code",
   "execution_count": 35,
   "id": "f57264a5-b4c2-4683-a7d4-a82f1a835c4e",
   "metadata": {},
   "outputs": [],
   "source": [
    "df[\"Cost\"] = df[\"Cost\"].str.strip().astype(float)"
   ]
  },
  {
   "cell_type": "code",
   "execution_count": 36,
   "id": "a9e2edf6-1b67-41e7-a759-4df3e4d2d53f",
   "metadata": {},
   "outputs": [],
   "source": [
    "df[\"Date\"] = pd.to_datetime(df[\"Date\"])"
   ]
  },
  {
   "cell_type": "code",
   "execution_count": 48,
   "id": "c1d52805-8617-4555-bbc7-a918bf3816de",
   "metadata": {
    "scrolled": true
   },
   "outputs": [],
   "source": [
    "df.groupby(by=[\"Category\", df['Date'].dt.year])[\"Cost\"].sum().to_csv(\"data/totals_yearly.csv\")"
   ]
  },
  {
   "cell_type": "code",
   "execution_count": 50,
   "id": "7b1a0856-2a7b-42b2-9c9e-4404e92b3c9f",
   "metadata": {},
   "outputs": [],
   "source": [
    "df = df[df[\"Date\"].dt.year >= 2022]"
   ]
  },
  {
   "cell_type": "code",
   "execution_count": 53,
   "id": "baa00739-c7bb-4c19-9573-787819fb9f0f",
   "metadata": {},
   "outputs": [
    {
     "data": {
      "text/html": [
       "<div>\n",
       "<style scoped>\n",
       "    .dataframe tbody tr th:only-of-type {\n",
       "        vertical-align: middle;\n",
       "    }\n",
       "\n",
       "    .dataframe tbody tr th {\n",
       "        vertical-align: top;\n",
       "    }\n",
       "\n",
       "    .dataframe thead th {\n",
       "        text-align: right;\n",
       "    }\n",
       "</style>\n",
       "<table border=\"1\" class=\"dataframe\">\n",
       "  <thead>\n",
       "    <tr style=\"text-align: right;\">\n",
       "      <th></th>\n",
       "      <th>Category</th>\n",
       "      <th>Date</th>\n",
       "      <th>Cost</th>\n",
       "    </tr>\n",
       "  </thead>\n",
       "  <tbody>\n",
       "    <tr>\n",
       "      <th>0</th>\n",
       "      <td>Bus/train</td>\n",
       "      <td>2022</td>\n",
       "      <td>287.31</td>\n",
       "    </tr>\n",
       "    <tr>\n",
       "      <th>1</th>\n",
       "      <td>Bus/train</td>\n",
       "      <td>2023</td>\n",
       "      <td>1169.23</td>\n",
       "    </tr>\n",
       "    <tr>\n",
       "      <th>2</th>\n",
       "      <td>Bus/train</td>\n",
       "      <td>2024</td>\n",
       "      <td>499.90</td>\n",
       "    </tr>\n",
       "    <tr>\n",
       "      <th>3</th>\n",
       "      <td>Car</td>\n",
       "      <td>2022</td>\n",
       "      <td>4862.00</td>\n",
       "    </tr>\n",
       "    <tr>\n",
       "      <th>4</th>\n",
       "      <td>Car</td>\n",
       "      <td>2023</td>\n",
       "      <td>4165.19</td>\n",
       "    </tr>\n",
       "    <tr>\n",
       "      <th>...</th>\n",
       "      <td>...</td>\n",
       "      <td>...</td>\n",
       "      <td>...</td>\n",
       "    </tr>\n",
       "    <tr>\n",
       "      <th>101</th>\n",
       "      <td>Transportation - Other</td>\n",
       "      <td>2023</td>\n",
       "      <td>1710.01</td>\n",
       "    </tr>\n",
       "    <tr>\n",
       "      <th>102</th>\n",
       "      <td>Trash</td>\n",
       "      <td>2023</td>\n",
       "      <td>105.13</td>\n",
       "    </tr>\n",
       "    <tr>\n",
       "      <th>103</th>\n",
       "      <td>Utilities - Other</td>\n",
       "      <td>2022</td>\n",
       "      <td>229.00</td>\n",
       "    </tr>\n",
       "    <tr>\n",
       "      <th>104</th>\n",
       "      <td>Utilities - Other</td>\n",
       "      <td>2023</td>\n",
       "      <td>75.00</td>\n",
       "    </tr>\n",
       "    <tr>\n",
       "      <th>105</th>\n",
       "      <td>Utilities - Other</td>\n",
       "      <td>2024</td>\n",
       "      <td>360.00</td>\n",
       "    </tr>\n",
       "  </tbody>\n",
       "</table>\n",
       "<p>106 rows × 3 columns</p>\n",
       "</div>"
      ],
      "text/plain": [
       "                   Category  Date     Cost\n",
       "0                 Bus/train  2022   287.31\n",
       "1                 Bus/train  2023  1169.23\n",
       "2                 Bus/train  2024   499.90\n",
       "3                       Car  2022  4862.00\n",
       "4                       Car  2023  4165.19\n",
       "..                      ...   ...      ...\n",
       "101  Transportation - Other  2023  1710.01\n",
       "102                   Trash  2023   105.13\n",
       "103       Utilities - Other  2022   229.00\n",
       "104       Utilities - Other  2023    75.00\n",
       "105       Utilities - Other  2024   360.00\n",
       "\n",
       "[106 rows x 3 columns]"
      ]
     },
     "execution_count": 53,
     "metadata": {},
     "output_type": "execute_result"
    }
   ],
   "source": [
    "df.groupby(by=[\"Category\", df['Date'].dt.year])[\"Cost\"].sum().reset_index()"
   ]
  },
  {
   "cell_type": "code",
   "execution_count": 59,
   "id": "0fc3d33a-715a-4b86-97f5-54755c581865",
   "metadata": {},
   "outputs": [
    {
     "data": {
      "application/vnd.plotly.v1+json": {
       "config": {
        "plotlyServerURL": "https://plot.ly"
       },
       "data": [
        {
         "alignmentgroup": "True",
         "hovertemplate": "Category=Bus/train<br>Date=%{x}<br>Cost=%{y}<extra></extra>",
         "legendgroup": "Bus/train",
         "marker": {
          "color": "#636efa",
          "pattern": {
           "shape": ""
          }
         },
         "name": "Bus/train",
         "offsetgroup": "Bus/train",
         "orientation": "v",
         "showlegend": true,
         "textposition": "auto",
         "type": "bar",
         "x": [
          2022,
          2023,
          2024
         ],
         "xaxis": "x",
         "y": [
          23.9425,
          97.43583333333333,
          41.65833333333333
         ],
         "yaxis": "y"
        },
        {
         "alignmentgroup": "True",
         "hovertemplate": "Category=Car<br>Date=%{x}<br>Cost=%{y}<extra></extra>",
         "legendgroup": "Car",
         "marker": {
          "color": "#EF553B",
          "pattern": {
           "shape": ""
          }
         },
         "name": "Car",
         "offsetgroup": "Car",
         "orientation": "v",
         "showlegend": true,
         "textposition": "auto",
         "type": "bar",
         "x": [
          2022,
          2023,
          2024,
          2025
         ],
         "xaxis": "x",
         "y": [
          405.1666666666667,
          347.09916666666663,
          442.8933333333334,
          4
         ],
         "yaxis": "y"
        },
        {
         "alignmentgroup": "True",
         "hovertemplate": "Category=Clothing<br>Date=%{x}<br>Cost=%{y}<extra></extra>",
         "legendgroup": "Clothing",
         "marker": {
          "color": "#00cc96",
          "pattern": {
           "shape": ""
          }
         },
         "name": "Clothing",
         "offsetgroup": "Clothing",
         "orientation": "v",
         "showlegend": true,
         "textposition": "auto",
         "type": "bar",
         "x": [
          2022,
          2023,
          2024,
          2025
         ],
         "xaxis": "x",
         "y": [
          219.59416666666667,
          173.65166666666667,
          169.47333333333333,
          19.400000000000002
         ],
         "yaxis": "y"
        },
        {
         "alignmentgroup": "True",
         "hovertemplate": "Category=Dining out<br>Date=%{x}<br>Cost=%{y}<extra></extra>",
         "legendgroup": "Dining out",
         "marker": {
          "color": "#ab63fa",
          "pattern": {
           "shape": ""
          }
         },
         "name": "Dining out",
         "offsetgroup": "Dining out",
         "orientation": "v",
         "showlegend": true,
         "textposition": "auto",
         "type": "bar",
         "x": [
          2022,
          2023,
          2024
         ],
         "xaxis": "x",
         "y": [
          329.55083333333334,
          406.39166666666665,
          401.55
         ],
         "yaxis": "y"
        },
        {
         "alignmentgroup": "True",
         "hovertemplate": "Category=Electricity<br>Date=%{x}<br>Cost=%{y}<extra></extra>",
         "legendgroup": "Electricity",
         "marker": {
          "color": "#FFA15A",
          "pattern": {
           "shape": ""
          }
         },
         "name": "Electricity",
         "offsetgroup": "Electricity",
         "orientation": "v",
         "showlegend": true,
         "textposition": "auto",
         "type": "bar",
         "x": [
          2022,
          2023,
          2024,
          2025
         ],
         "xaxis": "x",
         "y": [
          78.22916666666667,
          173.74666666666667,
          164.475,
          29.626666666666665
         ],
         "yaxis": "y"
        },
        {
         "alignmentgroup": "True",
         "hovertemplate": "Category=Electronics<br>Date=%{x}<br>Cost=%{y}<extra></extra>",
         "legendgroup": "Electronics",
         "marker": {
          "color": "#19d3f3",
          "pattern": {
           "shape": ""
          }
         },
         "name": "Electronics",
         "offsetgroup": "Electronics",
         "orientation": "v",
         "showlegend": true,
         "textposition": "auto",
         "type": "bar",
         "x": [
          2022,
          2023,
          2024
         ],
         "xaxis": "x",
         "y": [
          453.57666666666665,
          14.031666666666666,
          5.415833333333334
         ],
         "yaxis": "y"
        },
        {
         "alignmentgroup": "True",
         "hovertemplate": "Category=Entertainment - Other<br>Date=%{x}<br>Cost=%{y}<extra></extra>",
         "legendgroup": "Entertainment - Other",
         "marker": {
          "color": "#FF6692",
          "pattern": {
           "shape": ""
          }
         },
         "name": "Entertainment - Other",
         "offsetgroup": "Entertainment - Other",
         "orientation": "v",
         "showlegend": true,
         "textposition": "auto",
         "type": "bar",
         "x": [
          2022,
          2023,
          2024
         ],
         "xaxis": "x",
         "y": [
          280.515,
          150.48833333333332,
          139.54749999999999
         ],
         "yaxis": "y"
        },
        {
         "alignmentgroup": "True",
         "hovertemplate": "Category=Food and drink - Other<br>Date=%{x}<br>Cost=%{y}<extra></extra>",
         "legendgroup": "Food and drink - Other",
         "marker": {
          "color": "#B6E880",
          "pattern": {
           "shape": ""
          }
         },
         "name": "Food and drink - Other",
         "offsetgroup": "Food and drink - Other",
         "orientation": "v",
         "showlegend": true,
         "textposition": "auto",
         "type": "bar",
         "x": [
          2022
         ],
         "xaxis": "x",
         "y": [
          8.591666666666667
         ],
         "yaxis": "y"
        },
        {
         "alignmentgroup": "True",
         "hovertemplate": "Category=Furniture<br>Date=%{x}<br>Cost=%{y}<extra></extra>",
         "legendgroup": "Furniture",
         "marker": {
          "color": "#FF97FF",
          "pattern": {
           "shape": ""
          }
         },
         "name": "Furniture",
         "offsetgroup": "Furniture",
         "orientation": "v",
         "showlegend": true,
         "textposition": "auto",
         "type": "bar",
         "x": [
          2022,
          2023,
          2024,
          2025
         ],
         "xaxis": "x",
         "y": [
          182.08416666666665,
          39.99583333333333,
          963.1941666666667,
          9.305833333333334
         ],
         "yaxis": "y"
        },
        {
         "alignmentgroup": "True",
         "hovertemplate": "Category=Games<br>Date=%{x}<br>Cost=%{y}<extra></extra>",
         "legendgroup": "Games",
         "marker": {
          "color": "#FECB52",
          "pattern": {
           "shape": ""
          }
         },
         "name": "Games",
         "offsetgroup": "Games",
         "orientation": "v",
         "showlegend": true,
         "textposition": "auto",
         "type": "bar",
         "x": [
          2022,
          2023,
          2024
         ],
         "xaxis": "x",
         "y": [
          28,
          27.499166666666667,
          2.5
         ],
         "yaxis": "y"
        },
        {
         "alignmentgroup": "True",
         "hovertemplate": "Category=Gas/fuel<br>Date=%{x}<br>Cost=%{y}<extra></extra>",
         "legendgroup": "Gas/fuel",
         "marker": {
          "color": "#636efa",
          "pattern": {
           "shape": ""
          }
         },
         "name": "Gas/fuel",
         "offsetgroup": "Gas/fuel",
         "orientation": "v",
         "showlegend": true,
         "textposition": "auto",
         "type": "bar",
         "x": [
          2022,
          2023,
          2024,
          2025
         ],
         "xaxis": "x",
         "y": [
          485.97333333333336,
          659.655,
          537.645,
          20.900000000000002
         ],
         "yaxis": "y"
        },
        {
         "alignmentgroup": "True",
         "hovertemplate": "Category=General<br>Date=%{x}<br>Cost=%{y}<extra></extra>",
         "legendgroup": "General",
         "marker": {
          "color": "#EF553B",
          "pattern": {
           "shape": ""
          }
         },
         "name": "General",
         "offsetgroup": "General",
         "orientation": "v",
         "showlegend": true,
         "textposition": "auto",
         "type": "bar",
         "x": [
          2022,
          2023,
          2024
         ],
         "xaxis": "x",
         "y": [
          118.7475,
          211.97083333333333,
          311.85583333333335
         ],
         "yaxis": "y"
        },
        {
         "alignmentgroup": "True",
         "hovertemplate": "Category=Gifts<br>Date=%{x}<br>Cost=%{y}<extra></extra>",
         "legendgroup": "Gifts",
         "marker": {
          "color": "#00cc96",
          "pattern": {
           "shape": ""
          }
         },
         "name": "Gifts",
         "offsetgroup": "Gifts",
         "orientation": "v",
         "showlegend": true,
         "textposition": "auto",
         "type": "bar",
         "x": [
          2022,
          2023,
          2024,
          2025
         ],
         "xaxis": "x",
         "y": [
          342.79749999999996,
          257.6483333333333,
          329.24666666666667,
          12.5
         ],
         "yaxis": "y"
        },
        {
         "alignmentgroup": "True",
         "hovertemplate": "Category=Groceries<br>Date=%{x}<br>Cost=%{y}<extra></extra>",
         "legendgroup": "Groceries",
         "marker": {
          "color": "#ab63fa",
          "pattern": {
           "shape": ""
          }
         },
         "name": "Groceries",
         "offsetgroup": "Groceries",
         "orientation": "v",
         "showlegend": true,
         "textposition": "auto",
         "type": "bar",
         "x": [
          2022,
          2023,
          2024,
          2025
         ],
         "xaxis": "x",
         "y": [
          1283.2883333333332,
          1336.2341666666666,
          1331.9641666666666,
          23.25583333333333
         ],
         "yaxis": "y"
        },
        {
         "alignmentgroup": "True",
         "hovertemplate": "Category=Heat/gas<br>Date=%{x}<br>Cost=%{y}<extra></extra>",
         "legendgroup": "Heat/gas",
         "marker": {
          "color": "#FFA15A",
          "pattern": {
           "shape": ""
          }
         },
         "name": "Heat/gas",
         "offsetgroup": "Heat/gas",
         "orientation": "v",
         "showlegend": true,
         "textposition": "auto",
         "type": "bar",
         "x": [
          2022,
          2023,
          2024
         ],
         "xaxis": "x",
         "y": [
          69.43083333333334,
          103.8325,
          31.77333333333333
         ],
         "yaxis": "y"
        },
        {
         "alignmentgroup": "True",
         "hovertemplate": "Category=Home - Other<br>Date=%{x}<br>Cost=%{y}<extra></extra>",
         "legendgroup": "Home - Other",
         "marker": {
          "color": "#19d3f3",
          "pattern": {
           "shape": ""
          }
         },
         "name": "Home - Other",
         "offsetgroup": "Home - Other",
         "orientation": "v",
         "showlegend": true,
         "textposition": "auto",
         "type": "bar",
         "x": [
          2022,
          2024
         ],
         "xaxis": "x",
         "y": [
          54.53666666666667,
          73.66916666666667
         ],
         "yaxis": "y"
        },
        {
         "alignmentgroup": "True",
         "hovertemplate": "Category=Hotel<br>Date=%{x}<br>Cost=%{y}<extra></extra>",
         "legendgroup": "Hotel",
         "marker": {
          "color": "#FF6692",
          "pattern": {
           "shape": ""
          }
         },
         "name": "Hotel",
         "offsetgroup": "Hotel",
         "orientation": "v",
         "showlegend": true,
         "textposition": "auto",
         "type": "bar",
         "x": [
          2023,
          2024
         ],
         "xaxis": "x",
         "y": [
          87.20083333333334,
          97.85083333333334
         ],
         "yaxis": "y"
        },
        {
         "alignmentgroup": "True",
         "hovertemplate": "Category=Household supplies<br>Date=%{x}<br>Cost=%{y}<extra></extra>",
         "legendgroup": "Household supplies",
         "marker": {
          "color": "#B6E880",
          "pattern": {
           "shape": ""
          }
         },
         "name": "Household supplies",
         "offsetgroup": "Household supplies",
         "orientation": "v",
         "showlegend": true,
         "textposition": "auto",
         "type": "bar",
         "x": [
          2022,
          2023,
          2024,
          2025
         ],
         "xaxis": "x",
         "y": [
          181.69500000000002,
          142.2075,
          211.13833333333332,
          13.331666666666665
         ],
         "yaxis": "y"
        },
        {
         "alignmentgroup": "True",
         "hovertemplate": "Category=Insurance<br>Date=%{x}<br>Cost=%{y}<extra></extra>",
         "legendgroup": "Insurance",
         "marker": {
          "color": "#FF97FF",
          "pattern": {
           "shape": ""
          }
         },
         "name": "Insurance",
         "offsetgroup": "Insurance",
         "orientation": "v",
         "showlegend": true,
         "textposition": "auto",
         "type": "bar",
         "x": [
          2024,
          2025
         ],
         "xaxis": "x",
         "y": [
          55.083333333333336,
          43.583333333333336
         ],
         "yaxis": "y"
        },
        {
         "alignmentgroup": "True",
         "hovertemplate": "Category=Life - Other<br>Date=%{x}<br>Cost=%{y}<extra></extra>",
         "legendgroup": "Life - Other",
         "marker": {
          "color": "#FECB52",
          "pattern": {
           "shape": ""
          }
         },
         "name": "Life - Other",
         "offsetgroup": "Life - Other",
         "orientation": "v",
         "showlegend": true,
         "textposition": "auto",
         "type": "bar",
         "x": [
          2022,
          2023,
          2024
         ],
         "xaxis": "x",
         "y": [
          67.7325,
          36.495,
          57.074999999999996
         ],
         "yaxis": "y"
        },
        {
         "alignmentgroup": "True",
         "hovertemplate": "Category=Liquor<br>Date=%{x}<br>Cost=%{y}<extra></extra>",
         "legendgroup": "Liquor",
         "marker": {
          "color": "#636efa",
          "pattern": {
           "shape": ""
          }
         },
         "name": "Liquor",
         "offsetgroup": "Liquor",
         "orientation": "v",
         "showlegend": true,
         "textposition": "auto",
         "type": "bar",
         "x": [
          2022,
          2023,
          2024
         ],
         "xaxis": "x",
         "y": [
          13.753333333333332,
          32.5,
          5.555
         ],
         "yaxis": "y"
        },
        {
         "alignmentgroup": "True",
         "hovertemplate": "Category=Maintenance<br>Date=%{x}<br>Cost=%{y}<extra></extra>",
         "legendgroup": "Maintenance",
         "marker": {
          "color": "#EF553B",
          "pattern": {
           "shape": ""
          }
         },
         "name": "Maintenance",
         "offsetgroup": "Maintenance",
         "orientation": "v",
         "showlegend": true,
         "textposition": "auto",
         "type": "bar",
         "x": [
          2022,
          2023,
          2024
         ],
         "xaxis": "x",
         "y": [
          40.6975,
          26,
          14.0475
         ],
         "yaxis": "y"
        },
        {
         "alignmentgroup": "True",
         "hovertemplate": "Category=Medical expenses<br>Date=%{x}<br>Cost=%{y}<extra></extra>",
         "legendgroup": "Medical expenses",
         "marker": {
          "color": "#00cc96",
          "pattern": {
           "shape": ""
          }
         },
         "name": "Medical expenses",
         "offsetgroup": "Medical expenses",
         "orientation": "v",
         "showlegend": true,
         "textposition": "auto",
         "type": "bar",
         "x": [
          2022,
          2023,
          2024,
          2025
         ],
         "xaxis": "x",
         "y": [
          597.3275,
          600.3125,
          1124.4858333333334,
          25
         ],
         "yaxis": "y"
        },
        {
         "alignmentgroup": "True",
         "hovertemplate": "Category=Movies<br>Date=%{x}<br>Cost=%{y}<extra></extra>",
         "legendgroup": "Movies",
         "marker": {
          "color": "#ab63fa",
          "pattern": {
           "shape": ""
          }
         },
         "name": "Movies",
         "offsetgroup": "Movies",
         "orientation": "v",
         "showlegend": true,
         "textposition": "auto",
         "type": "bar",
         "x": [
          2022,
          2023,
          2024
         ],
         "xaxis": "x",
         "y": [
          29.399166666666662,
          18.899166666666666,
          43.99666666666666
         ],
         "yaxis": "y"
        },
        {
         "alignmentgroup": "True",
         "hovertemplate": "Category=Parking<br>Date=%{x}<br>Cost=%{y}<extra></extra>",
         "legendgroup": "Parking",
         "marker": {
          "color": "#FFA15A",
          "pattern": {
           "shape": ""
          }
         },
         "name": "Parking",
         "offsetgroup": "Parking",
         "orientation": "v",
         "showlegend": true,
         "textposition": "auto",
         "type": "bar",
         "x": [
          2022,
          2023,
          2024
         ],
         "xaxis": "x",
         "y": [
          6.791666666666667,
          18.25,
          11.444166666666666
         ],
         "yaxis": "y"
        },
        {
         "alignmentgroup": "True",
         "hovertemplate": "Category=Pets<br>Date=%{x}<br>Cost=%{y}<extra></extra>",
         "legendgroup": "Pets",
         "marker": {
          "color": "#19d3f3",
          "pattern": {
           "shape": ""
          }
         },
         "name": "Pets",
         "offsetgroup": "Pets",
         "orientation": "v",
         "showlegend": true,
         "textposition": "auto",
         "type": "bar",
         "x": [
          2022,
          2023,
          2024,
          2025
         ],
         "xaxis": "x",
         "y": [
          106.685,
          102.67999999999999,
          183.9525,
          49.1
         ],
         "yaxis": "y"
        },
        {
         "alignmentgroup": "True",
         "hovertemplate": "Category=Rent<br>Date=%{x}<br>Cost=%{y}<extra></extra>",
         "legendgroup": "Rent",
         "marker": {
          "color": "#FF6692",
          "pattern": {
           "shape": ""
          }
         },
         "name": "Rent",
         "offsetgroup": "Rent",
         "orientation": "v",
         "showlegend": true,
         "textposition": "auto",
         "type": "bar",
         "x": [
          2022,
          2023,
          2024,
          2025
         ],
         "xaxis": "x",
         "y": [
          2438.7725,
          3012.226666666667,
          1158.1708333333333,
          74.2775
         ],
         "yaxis": "y"
        },
        {
         "alignmentgroup": "True",
         "hovertemplate": "Category=Services<br>Date=%{x}<br>Cost=%{y}<extra></extra>",
         "legendgroup": "Services",
         "marker": {
          "color": "#B6E880",
          "pattern": {
           "shape": ""
          }
         },
         "name": "Services",
         "offsetgroup": "Services",
         "orientation": "v",
         "showlegend": true,
         "textposition": "auto",
         "type": "bar",
         "x": [
          2024
         ],
         "xaxis": "x",
         "y": [
          11.666666666666666
         ],
         "yaxis": "y"
        },
        {
         "alignmentgroup": "True",
         "hovertemplate": "Category=Sports<br>Date=%{x}<br>Cost=%{y}<extra></extra>",
         "legendgroup": "Sports",
         "marker": {
          "color": "#FF97FF",
          "pattern": {
           "shape": ""
          }
         },
         "name": "Sports",
         "offsetgroup": "Sports",
         "orientation": "v",
         "showlegend": true,
         "textposition": "auto",
         "type": "bar",
         "x": [
          2022,
          2023,
          2024
         ],
         "xaxis": "x",
         "y": [
          11.708333333333334,
          195.27833333333334,
          5.664999999999999
         ],
         "yaxis": "y"
        },
        {
         "alignmentgroup": "True",
         "hovertemplate": "Category=TV/Phone/Internet<br>Date=%{x}<br>Cost=%{y}<extra></extra>",
         "legendgroup": "TV/Phone/Internet",
         "marker": {
          "color": "#FECB52",
          "pattern": {
           "shape": ""
          }
         },
         "name": "TV/Phone/Internet",
         "offsetgroup": "TV/Phone/Internet",
         "orientation": "v",
         "showlegend": true,
         "textposition": "auto",
         "type": "bar",
         "x": [
          2022,
          2023,
          2024
         ],
         "xaxis": "x",
         "y": [
          87.7,
          56.57083333333333,
          56.3325
         ],
         "yaxis": "y"
        },
        {
         "alignmentgroup": "True",
         "hovertemplate": "Category=Taxes<br>Date=%{x}<br>Cost=%{y}<extra></extra>",
         "legendgroup": "Taxes",
         "marker": {
          "color": "#636efa",
          "pattern": {
           "shape": ""
          }
         },
         "name": "Taxes",
         "offsetgroup": "Taxes",
         "orientation": "v",
         "showlegend": true,
         "textposition": "auto",
         "type": "bar",
         "x": [
          2023,
          2024
         ],
         "xaxis": "x",
         "y": [
          6.015000000000001,
          14.245833333333332
         ],
         "yaxis": "y"
        },
        {
         "alignmentgroup": "True",
         "hovertemplate": "Category=Taxi<br>Date=%{x}<br>Cost=%{y}<extra></extra>",
         "legendgroup": "Taxi",
         "marker": {
          "color": "#EF553B",
          "pattern": {
           "shape": ""
          }
         },
         "name": "Taxi",
         "offsetgroup": "Taxi",
         "orientation": "v",
         "showlegend": true,
         "textposition": "auto",
         "type": "bar",
         "x": [
          2022,
          2023,
          2024,
          2025
         ],
         "xaxis": "x",
         "y": [
          0.9874999999999999,
          17.189166666666665,
          8.297500000000001,
          2.6533333333333333
         ],
         "yaxis": "y"
        },
        {
         "alignmentgroup": "True",
         "hovertemplate": "Category=Transportation - Other<br>Date=%{x}<br>Cost=%{y}<extra></extra>",
         "legendgroup": "Transportation - Other",
         "marker": {
          "color": "#00cc96",
          "pattern": {
           "shape": ""
          }
         },
         "name": "Transportation - Other",
         "offsetgroup": "Transportation - Other",
         "orientation": "v",
         "showlegend": true,
         "textposition": "auto",
         "type": "bar",
         "x": [
          2022,
          2023
         ],
         "xaxis": "x",
         "y": [
          3.3333333333333335,
          142.50083333333333
         ],
         "yaxis": "y"
        },
        {
         "alignmentgroup": "True",
         "hovertemplate": "Category=Trash<br>Date=%{x}<br>Cost=%{y}<extra></extra>",
         "legendgroup": "Trash",
         "marker": {
          "color": "#ab63fa",
          "pattern": {
           "shape": ""
          }
         },
         "name": "Trash",
         "offsetgroup": "Trash",
         "orientation": "v",
         "showlegend": true,
         "textposition": "auto",
         "type": "bar",
         "x": [
          2023
         ],
         "xaxis": "x",
         "y": [
          8.760833333333332
         ],
         "yaxis": "y"
        },
        {
         "alignmentgroup": "True",
         "hovertemplate": "Category=Utilities - Other<br>Date=%{x}<br>Cost=%{y}<extra></extra>",
         "legendgroup": "Utilities - Other",
         "marker": {
          "color": "#FFA15A",
          "pattern": {
           "shape": ""
          }
         },
         "name": "Utilities - Other",
         "offsetgroup": "Utilities - Other",
         "orientation": "v",
         "showlegend": true,
         "textposition": "auto",
         "type": "bar",
         "x": [
          2022,
          2023,
          2024
         ],
         "xaxis": "x",
         "y": [
          19.083333333333332,
          6.25,
          30
         ],
         "yaxis": "y"
        }
       ],
       "layout": {
        "barmode": "relative",
        "height": 800,
        "legend": {
         "title": {
          "text": "Category"
         },
         "tracegroupgap": 0
        },
        "margin": {
         "t": 60
        },
        "template": {
         "data": {
          "bar": [
           {
            "error_x": {
             "color": "#2a3f5f"
            },
            "error_y": {
             "color": "#2a3f5f"
            },
            "marker": {
             "line": {
              "color": "#E5ECF6",
              "width": 0.5
             },
             "pattern": {
              "fillmode": "overlay",
              "size": 10,
              "solidity": 0.2
             }
            },
            "type": "bar"
           }
          ],
          "barpolar": [
           {
            "marker": {
             "line": {
              "color": "#E5ECF6",
              "width": 0.5
             },
             "pattern": {
              "fillmode": "overlay",
              "size": 10,
              "solidity": 0.2
             }
            },
            "type": "barpolar"
           }
          ],
          "carpet": [
           {
            "aaxis": {
             "endlinecolor": "#2a3f5f",
             "gridcolor": "white",
             "linecolor": "white",
             "minorgridcolor": "white",
             "startlinecolor": "#2a3f5f"
            },
            "baxis": {
             "endlinecolor": "#2a3f5f",
             "gridcolor": "white",
             "linecolor": "white",
             "minorgridcolor": "white",
             "startlinecolor": "#2a3f5f"
            },
            "type": "carpet"
           }
          ],
          "choropleth": [
           {
            "colorbar": {
             "outlinewidth": 0,
             "ticks": ""
            },
            "type": "choropleth"
           }
          ],
          "contour": [
           {
            "colorbar": {
             "outlinewidth": 0,
             "ticks": ""
            },
            "colorscale": [
             [
              0,
              "#0d0887"
             ],
             [
              0.1111111111111111,
              "#46039f"
             ],
             [
              0.2222222222222222,
              "#7201a8"
             ],
             [
              0.3333333333333333,
              "#9c179e"
             ],
             [
              0.4444444444444444,
              "#bd3786"
             ],
             [
              0.5555555555555556,
              "#d8576b"
             ],
             [
              0.6666666666666666,
              "#ed7953"
             ],
             [
              0.7777777777777778,
              "#fb9f3a"
             ],
             [
              0.8888888888888888,
              "#fdca26"
             ],
             [
              1,
              "#f0f921"
             ]
            ],
            "type": "contour"
           }
          ],
          "contourcarpet": [
           {
            "colorbar": {
             "outlinewidth": 0,
             "ticks": ""
            },
            "type": "contourcarpet"
           }
          ],
          "heatmap": [
           {
            "colorbar": {
             "outlinewidth": 0,
             "ticks": ""
            },
            "colorscale": [
             [
              0,
              "#0d0887"
             ],
             [
              0.1111111111111111,
              "#46039f"
             ],
             [
              0.2222222222222222,
              "#7201a8"
             ],
             [
              0.3333333333333333,
              "#9c179e"
             ],
             [
              0.4444444444444444,
              "#bd3786"
             ],
             [
              0.5555555555555556,
              "#d8576b"
             ],
             [
              0.6666666666666666,
              "#ed7953"
             ],
             [
              0.7777777777777778,
              "#fb9f3a"
             ],
             [
              0.8888888888888888,
              "#fdca26"
             ],
             [
              1,
              "#f0f921"
             ]
            ],
            "type": "heatmap"
           }
          ],
          "heatmapgl": [
           {
            "colorbar": {
             "outlinewidth": 0,
             "ticks": ""
            },
            "colorscale": [
             [
              0,
              "#0d0887"
             ],
             [
              0.1111111111111111,
              "#46039f"
             ],
             [
              0.2222222222222222,
              "#7201a8"
             ],
             [
              0.3333333333333333,
              "#9c179e"
             ],
             [
              0.4444444444444444,
              "#bd3786"
             ],
             [
              0.5555555555555556,
              "#d8576b"
             ],
             [
              0.6666666666666666,
              "#ed7953"
             ],
             [
              0.7777777777777778,
              "#fb9f3a"
             ],
             [
              0.8888888888888888,
              "#fdca26"
             ],
             [
              1,
              "#f0f921"
             ]
            ],
            "type": "heatmapgl"
           }
          ],
          "histogram": [
           {
            "marker": {
             "pattern": {
              "fillmode": "overlay",
              "size": 10,
              "solidity": 0.2
             }
            },
            "type": "histogram"
           }
          ],
          "histogram2d": [
           {
            "colorbar": {
             "outlinewidth": 0,
             "ticks": ""
            },
            "colorscale": [
             [
              0,
              "#0d0887"
             ],
             [
              0.1111111111111111,
              "#46039f"
             ],
             [
              0.2222222222222222,
              "#7201a8"
             ],
             [
              0.3333333333333333,
              "#9c179e"
             ],
             [
              0.4444444444444444,
              "#bd3786"
             ],
             [
              0.5555555555555556,
              "#d8576b"
             ],
             [
              0.6666666666666666,
              "#ed7953"
             ],
             [
              0.7777777777777778,
              "#fb9f3a"
             ],
             [
              0.8888888888888888,
              "#fdca26"
             ],
             [
              1,
              "#f0f921"
             ]
            ],
            "type": "histogram2d"
           }
          ],
          "histogram2dcontour": [
           {
            "colorbar": {
             "outlinewidth": 0,
             "ticks": ""
            },
            "colorscale": [
             [
              0,
              "#0d0887"
             ],
             [
              0.1111111111111111,
              "#46039f"
             ],
             [
              0.2222222222222222,
              "#7201a8"
             ],
             [
              0.3333333333333333,
              "#9c179e"
             ],
             [
              0.4444444444444444,
              "#bd3786"
             ],
             [
              0.5555555555555556,
              "#d8576b"
             ],
             [
              0.6666666666666666,
              "#ed7953"
             ],
             [
              0.7777777777777778,
              "#fb9f3a"
             ],
             [
              0.8888888888888888,
              "#fdca26"
             ],
             [
              1,
              "#f0f921"
             ]
            ],
            "type": "histogram2dcontour"
           }
          ],
          "mesh3d": [
           {
            "colorbar": {
             "outlinewidth": 0,
             "ticks": ""
            },
            "type": "mesh3d"
           }
          ],
          "parcoords": [
           {
            "line": {
             "colorbar": {
              "outlinewidth": 0,
              "ticks": ""
             }
            },
            "type": "parcoords"
           }
          ],
          "pie": [
           {
            "automargin": true,
            "type": "pie"
           }
          ],
          "scatter": [
           {
            "fillpattern": {
             "fillmode": "overlay",
             "size": 10,
             "solidity": 0.2
            },
            "type": "scatter"
           }
          ],
          "scatter3d": [
           {
            "line": {
             "colorbar": {
              "outlinewidth": 0,
              "ticks": ""
             }
            },
            "marker": {
             "colorbar": {
              "outlinewidth": 0,
              "ticks": ""
             }
            },
            "type": "scatter3d"
           }
          ],
          "scattercarpet": [
           {
            "marker": {
             "colorbar": {
              "outlinewidth": 0,
              "ticks": ""
             }
            },
            "type": "scattercarpet"
           }
          ],
          "scattergeo": [
           {
            "marker": {
             "colorbar": {
              "outlinewidth": 0,
              "ticks": ""
             }
            },
            "type": "scattergeo"
           }
          ],
          "scattergl": [
           {
            "marker": {
             "colorbar": {
              "outlinewidth": 0,
              "ticks": ""
             }
            },
            "type": "scattergl"
           }
          ],
          "scattermapbox": [
           {
            "marker": {
             "colorbar": {
              "outlinewidth": 0,
              "ticks": ""
             }
            },
            "type": "scattermapbox"
           }
          ],
          "scatterpolar": [
           {
            "marker": {
             "colorbar": {
              "outlinewidth": 0,
              "ticks": ""
             }
            },
            "type": "scatterpolar"
           }
          ],
          "scatterpolargl": [
           {
            "marker": {
             "colorbar": {
              "outlinewidth": 0,
              "ticks": ""
             }
            },
            "type": "scatterpolargl"
           }
          ],
          "scatterternary": [
           {
            "marker": {
             "colorbar": {
              "outlinewidth": 0,
              "ticks": ""
             }
            },
            "type": "scatterternary"
           }
          ],
          "surface": [
           {
            "colorbar": {
             "outlinewidth": 0,
             "ticks": ""
            },
            "colorscale": [
             [
              0,
              "#0d0887"
             ],
             [
              0.1111111111111111,
              "#46039f"
             ],
             [
              0.2222222222222222,
              "#7201a8"
             ],
             [
              0.3333333333333333,
              "#9c179e"
             ],
             [
              0.4444444444444444,
              "#bd3786"
             ],
             [
              0.5555555555555556,
              "#d8576b"
             ],
             [
              0.6666666666666666,
              "#ed7953"
             ],
             [
              0.7777777777777778,
              "#fb9f3a"
             ],
             [
              0.8888888888888888,
              "#fdca26"
             ],
             [
              1,
              "#f0f921"
             ]
            ],
            "type": "surface"
           }
          ],
          "table": [
           {
            "cells": {
             "fill": {
              "color": "#EBF0F8"
             },
             "line": {
              "color": "white"
             }
            },
            "header": {
             "fill": {
              "color": "#C8D4E3"
             },
             "line": {
              "color": "white"
             }
            },
            "type": "table"
           }
          ]
         },
         "layout": {
          "annotationdefaults": {
           "arrowcolor": "#2a3f5f",
           "arrowhead": 0,
           "arrowwidth": 1
          },
          "autotypenumbers": "strict",
          "coloraxis": {
           "colorbar": {
            "outlinewidth": 0,
            "ticks": ""
           }
          },
          "colorscale": {
           "diverging": [
            [
             0,
             "#8e0152"
            ],
            [
             0.1,
             "#c51b7d"
            ],
            [
             0.2,
             "#de77ae"
            ],
            [
             0.3,
             "#f1b6da"
            ],
            [
             0.4,
             "#fde0ef"
            ],
            [
             0.5,
             "#f7f7f7"
            ],
            [
             0.6,
             "#e6f5d0"
            ],
            [
             0.7,
             "#b8e186"
            ],
            [
             0.8,
             "#7fbc41"
            ],
            [
             0.9,
             "#4d9221"
            ],
            [
             1,
             "#276419"
            ]
           ],
           "sequential": [
            [
             0,
             "#0d0887"
            ],
            [
             0.1111111111111111,
             "#46039f"
            ],
            [
             0.2222222222222222,
             "#7201a8"
            ],
            [
             0.3333333333333333,
             "#9c179e"
            ],
            [
             0.4444444444444444,
             "#bd3786"
            ],
            [
             0.5555555555555556,
             "#d8576b"
            ],
            [
             0.6666666666666666,
             "#ed7953"
            ],
            [
             0.7777777777777778,
             "#fb9f3a"
            ],
            [
             0.8888888888888888,
             "#fdca26"
            ],
            [
             1,
             "#f0f921"
            ]
           ],
           "sequentialminus": [
            [
             0,
             "#0d0887"
            ],
            [
             0.1111111111111111,
             "#46039f"
            ],
            [
             0.2222222222222222,
             "#7201a8"
            ],
            [
             0.3333333333333333,
             "#9c179e"
            ],
            [
             0.4444444444444444,
             "#bd3786"
            ],
            [
             0.5555555555555556,
             "#d8576b"
            ],
            [
             0.6666666666666666,
             "#ed7953"
            ],
            [
             0.7777777777777778,
             "#fb9f3a"
            ],
            [
             0.8888888888888888,
             "#fdca26"
            ],
            [
             1,
             "#f0f921"
            ]
           ]
          },
          "colorway": [
           "#636efa",
           "#EF553B",
           "#00cc96",
           "#ab63fa",
           "#FFA15A",
           "#19d3f3",
           "#FF6692",
           "#B6E880",
           "#FF97FF",
           "#FECB52"
          ],
          "font": {
           "color": "#2a3f5f"
          },
          "geo": {
           "bgcolor": "white",
           "lakecolor": "white",
           "landcolor": "#E5ECF6",
           "showlakes": true,
           "showland": true,
           "subunitcolor": "white"
          },
          "hoverlabel": {
           "align": "left"
          },
          "hovermode": "closest",
          "mapbox": {
           "style": "light"
          },
          "paper_bgcolor": "white",
          "plot_bgcolor": "#E5ECF6",
          "polar": {
           "angularaxis": {
            "gridcolor": "white",
            "linecolor": "white",
            "ticks": ""
           },
           "bgcolor": "#E5ECF6",
           "radialaxis": {
            "gridcolor": "white",
            "linecolor": "white",
            "ticks": ""
           }
          },
          "scene": {
           "xaxis": {
            "backgroundcolor": "#E5ECF6",
            "gridcolor": "white",
            "gridwidth": 2,
            "linecolor": "white",
            "showbackground": true,
            "ticks": "",
            "zerolinecolor": "white"
           },
           "yaxis": {
            "backgroundcolor": "#E5ECF6",
            "gridcolor": "white",
            "gridwidth": 2,
            "linecolor": "white",
            "showbackground": true,
            "ticks": "",
            "zerolinecolor": "white"
           },
           "zaxis": {
            "backgroundcolor": "#E5ECF6",
            "gridcolor": "white",
            "gridwidth": 2,
            "linecolor": "white",
            "showbackground": true,
            "ticks": "",
            "zerolinecolor": "white"
           }
          },
          "shapedefaults": {
           "line": {
            "color": "#2a3f5f"
           }
          },
          "ternary": {
           "aaxis": {
            "gridcolor": "white",
            "linecolor": "white",
            "ticks": ""
           },
           "baxis": {
            "gridcolor": "white",
            "linecolor": "white",
            "ticks": ""
           },
           "bgcolor": "#E5ECF6",
           "caxis": {
            "gridcolor": "white",
            "linecolor": "white",
            "ticks": ""
           }
          },
          "title": {
           "x": 0.05
          },
          "xaxis": {
           "automargin": true,
           "gridcolor": "white",
           "linecolor": "white",
           "ticks": "",
           "title": {
            "standoff": 15
           },
           "zerolinecolor": "white",
           "zerolinewidth": 2
          },
          "yaxis": {
           "automargin": true,
           "gridcolor": "white",
           "linecolor": "white",
           "ticks": "",
           "title": {
            "standoff": 15
           },
           "zerolinecolor": "white",
           "zerolinewidth": 2
          }
         }
        },
        "xaxis": {
         "anchor": "y",
         "domain": [
          0,
          1
         ],
         "title": {
          "text": "Date"
         }
        },
        "yaxis": {
         "anchor": "x",
         "domain": [
          0,
          1
         ],
         "title": {
          "text": "Cost"
         }
        }
       }
      },
      "image/png": "[encoded data removed]",
      "text/html": [
       "<div>                            <div id=\"dc154c12-4dcb-4815-85bf-d535a0f6d11f\" class=\"plotly-graph-div\" style=\"height:800px; width:100%;\"></div>            <script type=\"text/javascript\">                require([\"plotly\"], function(Plotly) {                    window.PLOTLYENV=window.PLOTLYENV || {};                                    if (document.getElementById(\"dc154c12-4dcb-4815-85bf-d535a0f6d11f\")) {                    Plotly.newPlot(                        \"dc154c12-4dcb-4815-85bf-d535a0f6d11f\",                        [{\"alignmentgroup\":\"True\",\"hovertemplate\":\"Category=Bus\\u002ftrain\\u003cbr\\u003eDate=%{x}\\u003cbr\\u003eCost=%{y}\\u003cextra\\u003e\\u003c\\u002fextra\\u003e\",\"legendgroup\":\"Bus\\u002ftrain\",\"marker\":{\"color\":\"#636efa\",\"pattern\":{\"shape\":\"\"}},\"name\":\"Bus\\u002ftrain\",\"offsetgroup\":\"Bus\\u002ftrain\",\"orientation\":\"v\",\"showlegend\":true,\"textposition\":\"auto\",\"x\":[2022,2023,2024],\"xaxis\":\"x\",\"y\":[23.9425,97.43583333333333,41.65833333333333],\"yaxis\":\"y\",\"type\":\"bar\"},{\"alignmentgroup\":\"True\",\"hovertemplate\":\"Category=Car\\u003cbr\\u003eDate=%{x}\\u003cbr\\u003eCost=%{y}\\u003cextra\\u003e\\u003c\\u002fextra\\u003e\",\"legendgroup\":\"Car\",\"marker\":{\"color\":\"#EF553B\",\"pattern\":{\"shape\":\"\"}},\"name\":\"Car\",\"offsetgroup\":\"Car\",\"orientation\":\"v\",\"showlegend\":true,\"textposition\":\"auto\",\"x\":[2022,2023,2024,2025],\"xaxis\":\"x\",\"y\":[405.1666666666667,347.09916666666663,442.8933333333334,4.0],\"yaxis\":\"y\",\"type\":\"bar\"},{\"alignmentgroup\":\"True\",\"hovertemplate\":\"Category=Clothing\\u003cbr\\u003eDate=%{x}\\u003cbr\\u003eCost=%{y}\\u003cextra\\u003e\\u003c\\u002fextra\\u003e\",\"legendgroup\":\"Clothing\",\"marker\":{\"color\":\"#00cc96\",\"pattern\":{\"shape\":\"\"}},\"name\":\"Clothing\",\"offsetgroup\":\"Clothing\",\"orientation\":\"v\",\"showlegend\":true,\"textposition\":\"auto\",\"x\":[2022,2023,2024,2025],\"xaxis\":\"x\",\"y\":[219.59416666666667,173.65166666666667,169.47333333333333,19.400000000000002],\"yaxis\":\"y\",\"type\":\"bar\"},{\"alignmentgroup\":\"True\",\"hovertemplate\":\"Category=Dining out\\u003cbr\\u003eDate=%{x}\\u003cbr\\u003eCost=%{y}\\u003cextra\\u003e\\u003c\\u002fextra\\u003e\",\"legendgroup\":\"Dining out\",\"marker\":{\"color\":\"#ab63fa\",\"pattern\":{\"shape\":\"\"}},\"name\":\"Dining out\",\"offsetgroup\":\"Dining out\",\"orientation\":\"v\",\"showlegend\":true,\"textposition\":\"auto\",\"x\":[2022,2023,2024],\"xaxis\":\"x\",\"y\":[329.55083333333334,406.39166666666665,401.55],\"yaxis\":\"y\",\"type\":\"bar\"},{\"alignmentgroup\":\"True\",\"hovertemplate\":\"Category=Electricity\\u003cbr\\u003eDate=%{x}\\u003cbr\\u003eCost=%{y}\\u003cextra\\u003e\\u003c\\u002fextra\\u003e\",\"legendgroup\":\"Electricity\",\"marker\":{\"color\":\"#FFA15A\",\"pattern\":{\"shape\":\"\"}},\"name\":\"Electricity\",\"offsetgroup\":\"Electricity\",\"orientation\":\"v\",\"showlegend\":true,\"textposition\":\"auto\",\"x\":[2022,2023,2024,2025],\"xaxis\":\"x\",\"y\":[78.22916666666667,173.74666666666667,164.475,29.626666666666665],\"yaxis\":\"y\",\"type\":\"bar\"},{\"alignmentgroup\":\"True\",\"hovertemplate\":\"Category=Electronics\\u003cbr\\u003eDate=%{x}\\u003cbr\\u003eCost=%{y}\\u003cextra\\u003e\\u003c\\u002fextra\\u003e\",\"legendgroup\":\"Electronics\",\"marker\":{\"color\":\"#19d3f3\",\"pattern\":{\"shape\":\"\"}},\"name\":\"Electronics\",\"offsetgroup\":\"Electronics\",\"orientation\":\"v\",\"showlegend\":true,\"textposition\":\"auto\",\"x\":[2022,2023,2024],\"xaxis\":\"x\",\"y\":[453.57666666666665,14.031666666666666,5.415833333333334],\"yaxis\":\"y\",\"type\":\"bar\"},{\"alignmentgroup\":\"True\",\"hovertemplate\":\"Category=Entertainment - Other\\u003cbr\\u003eDate=%{x}\\u003cbr\\u003eCost=%{y}\\u003cextra\\u003e\\u003c\\u002fextra\\u003e\",\"legendgroup\":\"Entertainment - Other\",\"marker\":{\"color\":\"#FF6692\",\"pattern\":{\"shape\":\"\"}},\"name\":\"Entertainment - Other\",\"offsetgroup\":\"Entertainment - Other\",\"orientation\":\"v\",\"showlegend\":true,\"textposition\":\"auto\",\"x\":[2022,2023,2024],\"xaxis\":\"x\",\"y\":[280.515,150.48833333333332,139.54749999999999],\"yaxis\":\"y\",\"type\":\"bar\"},{\"alignmentgroup\":\"True\",\"hovertemplate\":\"Category=Food and drink - Other\\u003cbr\\u003eDate=%{x}\\u003cbr\\u003eCost=%{y}\\u003cextra\\u003e\\u003c\\u002fextra\\u003e\",\"legendgroup\":\"Food and drink - Other\",\"marker\":{\"color\":\"#B6E880\",\"pattern\":{\"shape\":\"\"}},\"name\":\"Food and drink - Other\",\"offsetgroup\":\"Food and drink - Other\",\"orientation\":\"v\",\"showlegend\":true,\"textposition\":\"auto\",\"x\":[2022],\"xaxis\":\"x\",\"y\":[8.591666666666667],\"yaxis\":\"y\",\"type\":\"bar\"},{\"alignmentgroup\":\"True\",\"hovertemplate\":\"Category=Furniture\\u003cbr\\u003eDate=%{x}\\u003cbr\\u003eCost=%{y}\\u003cextra\\u003e\\u003c\\u002fextra\\u003e\",\"legendgroup\":\"Furniture\",\"marker\":{\"color\":\"#FF97FF\",\"pattern\":{\"shape\":\"\"}},\"name\":\"Furniture\",\"offsetgroup\":\"Furniture\",\"orientation\":\"v\",\"showlegend\":true,\"textposition\":\"auto\",\"x\":[2022,2023,2024,2025],\"xaxis\":\"x\",\"y\":[182.08416666666665,39.99583333333333,963.1941666666667,9.305833333333334],\"yaxis\":\"y\",\"type\":\"bar\"},{\"alignmentgroup\":\"True\",\"hovertemplate\":\"Category=Games\\u003cbr\\u003eDate=%{x}\\u003cbr\\u003eCost=%{y}\\u003cextra\\u003e\\u003c\\u002fextra\\u003e\",\"legendgroup\":\"Games\",\"marker\":{\"color\":\"#FECB52\",\"pattern\":{\"shape\":\"\"}},\"name\":\"Games\",\"offsetgroup\":\"Games\",\"orientation\":\"v\",\"showlegend\":true,\"textposition\":\"auto\",\"x\":[2022,2023,2024],\"xaxis\":\"x\",\"y\":[28.0,27.499166666666667,2.5],\"yaxis\":\"y\",\"type\":\"bar\"},{\"alignmentgroup\":\"True\",\"hovertemplate\":\"Category=Gas\\u002ffuel\\u003cbr\\u003eDate=%{x}\\u003cbr\\u003eCost=%{y}\\u003cextra\\u003e\\u003c\\u002fextra\\u003e\",\"legendgroup\":\"Gas\\u002ffuel\",\"marker\":{\"color\":\"#636efa\",\"pattern\":{\"shape\":\"\"}},\"name\":\"Gas\\u002ffuel\",\"offsetgroup\":\"Gas\\u002ffuel\",\"orientation\":\"v\",\"showlegend\":true,\"textposition\":\"auto\",\"x\":[2022,2023,2024,2025],\"xaxis\":\"x\",\"y\":[485.97333333333336,659.655,537.645,20.900000000000002],\"yaxis\":\"y\",\"type\":\"bar\"},{\"alignmentgroup\":\"True\",\"hovertemplate\":\"Category=General\\u003cbr\\u003eDate=%{x}\\u003cbr\\u003eCost=%{y}\\u003cextra\\u003e\\u003c\\u002fextra\\u003e\",\"legendgroup\":\"General\",\"marker\":{\"color\":\"#EF553B\",\"pattern\":{\"shape\":\"\"}},\"name\":\"General\",\"offsetgroup\":\"General\",\"orientation\":\"v\",\"showlegend\":true,\"textposition\":\"auto\",\"x\":[2022,2023,2024],\"xaxis\":\"x\",\"y\":[118.7475,211.97083333333333,311.85583333333335],\"yaxis\":\"y\",\"type\":\"bar\"},{\"alignmentgroup\":\"True\",\"hovertemplate\":\"Category=Gifts\\u003cbr\\u003eDate=%{x}\\u003cbr\\u003eCost=%{y}\\u003cextra\\u003e\\u003c\\u002fextra\\u003e\",\"legendgroup\":\"Gifts\",\"marker\":{\"color\":\"#00cc96\",\"pattern\":{\"shape\":\"\"}},\"name\":\"Gifts\",\"offsetgroup\":\"Gifts\",\"orientation\":\"v\",\"showlegend\":true,\"textposition\":\"auto\",\"x\":[2022,2023,2024,2025],\"xaxis\":\"x\",\"y\":[342.79749999999996,257.6483333333333,329.24666666666667,12.5],\"yaxis\":\"y\",\"type\":\"bar\"},{\"alignmentgroup\":\"True\",\"hovertemplate\":\"Category=Groceries\\u003cbr\\u003eDate=%{x}\\u003cbr\\u003eCost=%{y}\\u003cextra\\u003e\\u003c\\u002fextra\\u003e\",\"legendgroup\":\"Groceries\",\"marker\":{\"color\":\"#ab63fa\",\"pattern\":{\"shape\":\"\"}},\"name\":\"Groceries\",\"offsetgroup\":\"Groceries\",\"orientation\":\"v\",\"showlegend\":true,\"textposition\":\"auto\",\"x\":[2022,2023,2024,2025],\"xaxis\":\"x\",\"y\":[1283.2883333333332,1336.2341666666666,1331.9641666666666,23.25583333333333],\"yaxis\":\"y\",\"type\":\"bar\"},{\"alignmentgroup\":\"True\",\"hovertemplate\":\"Category=Heat\\u002fgas\\u003cbr\\u003eDate=%{x}\\u003cbr\\u003eCost=%{y}\\u003cextra\\u003e\\u003c\\u002fextra\\u003e\",\"legendgroup\":\"Heat\\u002fgas\",\"marker\":{\"color\":\"#FFA15A\",\"pattern\":{\"shape\":\"\"}},\"name\":\"Heat\\u002fgas\",\"offsetgroup\":\"Heat\\u002fgas\",\"orientation\":\"v\",\"showlegend\":true,\"textposition\":\"auto\",\"x\":[2022,2023,2024],\"xaxis\":\"x\",\"y\":[69.43083333333334,103.8325,31.77333333333333],\"yaxis\":\"y\",\"type\":\"bar\"},{\"alignmentgroup\":\"True\",\"hovertemplate\":\"Category=Home - Other\\u003cbr\\u003eDate=%{x}\\u003cbr\\u003eCost=%{y}\\u003cextra\\u003e\\u003c\\u002fextra\\u003e\",\"legendgroup\":\"Home - Other\",\"marker\":{\"color\":\"#19d3f3\",\"pattern\":{\"shape\":\"\"}},\"name\":\"Home - Other\",\"offsetgroup\":\"Home - Other\",\"orientation\":\"v\",\"showlegend\":true,\"textposition\":\"auto\",\"x\":[2022,2024],\"xaxis\":\"x\",\"y\":[54.53666666666667,73.66916666666667],\"yaxis\":\"y\",\"type\":\"bar\"},{\"alignmentgroup\":\"True\",\"hovertemplate\":\"Category=Hotel\\u003cbr\\u003eDate=%{x}\\u003cbr\\u003eCost=%{y}\\u003cextra\\u003e\\u003c\\u002fextra\\u003e\",\"legendgroup\":\"Hotel\",\"marker\":{\"color\":\"#FF6692\",\"pattern\":{\"shape\":\"\"}},\"name\":\"Hotel\",\"offsetgroup\":\"Hotel\",\"orientation\":\"v\",\"showlegend\":true,\"textposition\":\"auto\",\"x\":[2023,2024],\"xaxis\":\"x\",\"y\":[87.20083333333334,97.85083333333334],\"yaxis\":\"y\",\"type\":\"bar\"},{\"alignmentgroup\":\"True\",\"hovertemplate\":\"Category=Household supplies\\u003cbr\\u003eDate=%{x}\\u003cbr\\u003eCost=%{y}\\u003cextra\\u003e\\u003c\\u002fextra\\u003e\",\"legendgroup\":\"Household supplies\",\"marker\":{\"color\":\"#B6E880\",\"pattern\":{\"shape\":\"\"}},\"name\":\"Household supplies\",\"offsetgroup\":\"Household supplies\",\"orientation\":\"v\",\"showlegend\":true,\"textposition\":\"auto\",\"x\":[2022,2023,2024,2025],\"xaxis\":\"x\",\"y\":[181.69500000000002,142.2075,211.13833333333332,13.331666666666665],\"yaxis\":\"y\",\"type\":\"bar\"},{\"alignmentgroup\":\"True\",\"hovertemplate\":\"Category=Insurance\\u003cbr\\u003eDate=%{x}\\u003cbr\\u003eCost=%{y}\\u003cextra\\u003e\\u003c\\u002fextra\\u003e\",\"legendgroup\":\"Insurance\",\"marker\":{\"color\":\"#FF97FF\",\"pattern\":{\"shape\":\"\"}},\"name\":\"Insurance\",\"offsetgroup\":\"Insurance\",\"orientation\":\"v\",\"showlegend\":true,\"textposition\":\"auto\",\"x\":[2024,2025],\"xaxis\":\"x\",\"y\":[55.083333333333336,43.583333333333336],\"yaxis\":\"y\",\"type\":\"bar\"},{\"alignmentgroup\":\"True\",\"hovertemplate\":\"Category=Life - Other\\u003cbr\\u003eDate=%{x}\\u003cbr\\u003eCost=%{y}\\u003cextra\\u003e\\u003c\\u002fextra\\u003e\",\"legendgroup\":\"Life - Other\",\"marker\":{\"color\":\"#FECB52\",\"pattern\":{\"shape\":\"\"}},\"name\":\"Life - Other\",\"offsetgroup\":\"Life - Other\",\"orientation\":\"v\",\"showlegend\":true,\"textposition\":\"auto\",\"x\":[2022,2023,2024],\"xaxis\":\"x\",\"y\":[67.7325,36.495,57.074999999999996],\"yaxis\":\"y\",\"type\":\"bar\"},{\"alignmentgroup\":\"True\",\"hovertemplate\":\"Category=Liquor\\u003cbr\\u003eDate=%{x}\\u003cbr\\u003eCost=%{y}\\u003cextra\\u003e\\u003c\\u002fextra\\u003e\",\"legendgroup\":\"Liquor\",\"marker\":{\"color\":\"#636efa\",\"pattern\":{\"shape\":\"\"}},\"name\":\"Liquor\",\"offsetgroup\":\"Liquor\",\"orientation\":\"v\",\"showlegend\":true,\"textposition\":\"auto\",\"x\":[2022,2023,2024],\"xaxis\":\"x\",\"y\":[13.753333333333332,32.5,5.555],\"yaxis\":\"y\",\"type\":\"bar\"},{\"alignmentgroup\":\"True\",\"hovertemplate\":\"Category=Maintenance\\u003cbr\\u003eDate=%{x}\\u003cbr\\u003eCost=%{y}\\u003cextra\\u003e\\u003c\\u002fextra\\u003e\",\"legendgroup\":\"Maintenance\",\"marker\":{\"color\":\"#EF553B\",\"pattern\":{\"shape\":\"\"}},\"name\":\"Maintenance\",\"offsetgroup\":\"Maintenance\",\"orientation\":\"v\",\"showlegend\":true,\"textposition\":\"auto\",\"x\":[2022,2023,2024],\"xaxis\":\"x\",\"y\":[40.6975,26.0,14.0475],\"yaxis\":\"y\",\"type\":\"bar\"},{\"alignmentgroup\":\"True\",\"hovertemplate\":\"Category=Medical expenses\\u003cbr\\u003eDate=%{x}\\u003cbr\\u003eCost=%{y}\\u003cextra\\u003e\\u003c\\u002fextra\\u003e\",\"legendgroup\":\"Medical expenses\",\"marker\":{\"color\":\"#00cc96\",\"pattern\":{\"shape\":\"\"}},\"name\":\"Medical expenses\",\"offsetgroup\":\"Medical expenses\",\"orientation\":\"v\",\"showlegend\":true,\"textposition\":\"auto\",\"x\":[2022,2023,2024,2025],\"xaxis\":\"x\",\"y\":[597.3275,600.3125,1124.4858333333334,25.0],\"yaxis\":\"y\",\"type\":\"bar\"},{\"alignmentgroup\":\"True\",\"hovertemplate\":\"Category=Movies\\u003cbr\\u003eDate=%{x}\\u003cbr\\u003eCost=%{y}\\u003cextra\\u003e\\u003c\\u002fextra\\u003e\",\"legendgroup\":\"Movies\",\"marker\":{\"color\":\"#ab63fa\",\"pattern\":{\"shape\":\"\"}},\"name\":\"Movies\",\"offsetgroup\":\"Movies\",\"orientation\":\"v\",\"showlegend\":true,\"textposition\":\"auto\",\"x\":[2022,2023,2024],\"xaxis\":\"x\",\"y\":[29.399166666666662,18.899166666666666,43.99666666666666],\"yaxis\":\"y\",\"type\":\"bar\"},{\"alignmentgroup\":\"True\",\"hovertemplate\":\"Category=Parking\\u003cbr\\u003eDate=%{x}\\u003cbr\\u003eCost=%{y}\\u003cextra\\u003e\\u003c\\u002fextra\\u003e\",\"legendgroup\":\"Parking\",\"marker\":{\"color\":\"#FFA15A\",\"pattern\":{\"shape\":\"\"}},\"name\":\"Parking\",\"offsetgroup\":\"Parking\",\"orientation\":\"v\",\"showlegend\":true,\"textposition\":\"auto\",\"x\":[2022,2023,2024],\"xaxis\":\"x\",\"y\":[6.791666666666667,18.25,11.444166666666666],\"yaxis\":\"y\",\"type\":\"bar\"},{\"alignmentgroup\":\"True\",\"hovertemplate\":\"Category=Pets\\u003cbr\\u003eDate=%{x}\\u003cbr\\u003eCost=%{y}\\u003cextra\\u003e\\u003c\\u002fextra\\u003e\",\"legendgroup\":\"Pets\",\"marker\":{\"color\":\"#19d3f3\",\"pattern\":{\"shape\":\"\"}},\"name\":\"Pets\",\"offsetgroup\":\"Pets\",\"orientation\":\"v\",\"showlegend\":true,\"textposition\":\"auto\",\"x\":[2022,2023,2024,2025],\"xaxis\":\"x\",\"y\":[106.685,102.67999999999999,183.9525,49.1],\"yaxis\":\"y\",\"type\":\"bar\"},{\"alignmentgroup\":\"True\",\"hovertemplate\":\"Category=Rent\\u003cbr\\u003eDate=%{x}\\u003cbr\\u003eCost=%{y}\\u003cextra\\u003e\\u003c\\u002fextra\\u003e\",\"legendgroup\":\"Rent\",\"marker\":{\"color\":\"#FF6692\",\"pattern\":{\"shape\":\"\"}},\"name\":\"Rent\",\"offsetgroup\":\"Rent\",\"orientation\":\"v\",\"showlegend\":true,\"textposition\":\"auto\",\"x\":[2022,2023,2024,2025],\"xaxis\":\"x\",\"y\":[2438.7725,3012.226666666667,1158.1708333333333,74.2775],\"yaxis\":\"y\",\"type\":\"bar\"},{\"alignmentgroup\":\"True\",\"hovertemplate\":\"Category=Services\\u003cbr\\u003eDate=%{x}\\u003cbr\\u003eCost=%{y}\\u003cextra\\u003e\\u003c\\u002fextra\\u003e\",\"legendgroup\":\"Services\",\"marker\":{\"color\":\"#B6E880\",\"pattern\":{\"shape\":\"\"}},\"name\":\"Services\",\"offsetgroup\":\"Services\",\"orientation\":\"v\",\"showlegend\":true,\"textposition\":\"auto\",\"x\":[2024],\"xaxis\":\"x\",\"y\":[11.666666666666666],\"yaxis\":\"y\",\"type\":\"bar\"},{\"alignmentgroup\":\"True\",\"hovertemplate\":\"Category=Sports\\u003cbr\\u003eDate=%{x}\\u003cbr\\u003eCost=%{y}\\u003cextra\\u003e\\u003c\\u002fextra\\u003e\",\"legendgroup\":\"Sports\",\"marker\":{\"color\":\"#FF97FF\",\"pattern\":{\"shape\":\"\"}},\"name\":\"Sports\",\"offsetgroup\":\"Sports\",\"orientation\":\"v\",\"showlegend\":true,\"textposition\":\"auto\",\"x\":[2022,2023,2024],\"xaxis\":\"x\",\"y\":[11.708333333333334,195.27833333333334,5.664999999999999],\"yaxis\":\"y\",\"type\":\"bar\"},{\"alignmentgroup\":\"True\",\"hovertemplate\":\"Category=TV\\u002fPhone\\u002fInternet\\u003cbr\\u003eDate=%{x}\\u003cbr\\u003eCost=%{y}\\u003cextra\\u003e\\u003c\\u002fextra\\u003e\",\"legendgroup\":\"TV\\u002fPhone\\u002fInternet\",\"marker\":{\"color\":\"#FECB52\",\"pattern\":{\"shape\":\"\"}},\"name\":\"TV\\u002fPhone\\u002fInternet\",\"offsetgroup\":\"TV\\u002fPhone\\u002fInternet\",\"orientation\":\"v\",\"showlegend\":true,\"textposition\":\"auto\",\"x\":[2022,2023,2024],\"xaxis\":\"x\",\"y\":[87.7,56.57083333333333,56.3325],\"yaxis\":\"y\",\"type\":\"bar\"},{\"alignmentgroup\":\"True\",\"hovertemplate\":\"Category=Taxes\\u003cbr\\u003eDate=%{x}\\u003cbr\\u003eCost=%{y}\\u003cextra\\u003e\\u003c\\u002fextra\\u003e\",\"legendgroup\":\"Taxes\",\"marker\":{\"color\":\"#636efa\",\"pattern\":{\"shape\":\"\"}},\"name\":\"Taxes\",\"offsetgroup\":\"Taxes\",\"orientation\":\"v\",\"showlegend\":true,\"textposition\":\"auto\",\"x\":[2023,2024],\"xaxis\":\"x\",\"y\":[6.015000000000001,14.245833333333332],\"yaxis\":\"y\",\"type\":\"bar\"},{\"alignmentgroup\":\"True\",\"hovertemplate\":\"Category=Taxi\\u003cbr\\u003eDate=%{x}\\u003cbr\\u003eCost=%{y}\\u003cextra\\u003e\\u003c\\u002fextra\\u003e\",\"legendgroup\":\"Taxi\",\"marker\":{\"color\":\"#EF553B\",\"pattern\":{\"shape\":\"\"}},\"name\":\"Taxi\",\"offsetgroup\":\"Taxi\",\"orientation\":\"v\",\"showlegend\":true,\"textposition\":\"auto\",\"x\":[2022,2023,2024,2025],\"xaxis\":\"x\",\"y\":[0.9874999999999999,17.189166666666665,8.297500000000001,2.6533333333333333],\"yaxis\":\"y\",\"type\":\"bar\"},{\"alignmentgroup\":\"True\",\"hovertemplate\":\"Category=Transportation - Other\\u003cbr\\u003eDate=%{x}\\u003cbr\\u003eCost=%{y}\\u003cextra\\u003e\\u003c\\u002fextra\\u003e\",\"legendgroup\":\"Transportation - Other\",\"marker\":{\"color\":\"#00cc96\",\"pattern\":{\"shape\":\"\"}},\"name\":\"Transportation - Other\",\"offsetgroup\":\"Transportation - Other\",\"orientation\":\"v\",\"showlegend\":true,\"textposition\":\"auto\",\"x\":[2022,2023],\"xaxis\":\"x\",\"y\":[3.3333333333333335,142.50083333333333],\"yaxis\":\"y\",\"type\":\"bar\"},{\"alignmentgroup\":\"True\",\"hovertemplate\":\"Category=Trash\\u003cbr\\u003eDate=%{x}\\u003cbr\\u003eCost=%{y}\\u003cextra\\u003e\\u003c\\u002fextra\\u003e\",\"legendgroup\":\"Trash\",\"marker\":{\"color\":\"#ab63fa\",\"pattern\":{\"shape\":\"\"}},\"name\":\"Trash\",\"offsetgroup\":\"Trash\",\"orientation\":\"v\",\"showlegend\":true,\"textposition\":\"auto\",\"x\":[2023],\"xaxis\":\"x\",\"y\":[8.760833333333332],\"yaxis\":\"y\",\"type\":\"bar\"},{\"alignmentgroup\":\"True\",\"hovertemplate\":\"Category=Utilities - Other\\u003cbr\\u003eDate=%{x}\\u003cbr\\u003eCost=%{y}\\u003cextra\\u003e\\u003c\\u002fextra\\u003e\",\"legendgroup\":\"Utilities - Other\",\"marker\":{\"color\":\"#FFA15A\",\"pattern\":{\"shape\":\"\"}},\"name\":\"Utilities - Other\",\"offsetgroup\":\"Utilities - Other\",\"orientation\":\"v\",\"showlegend\":true,\"textposition\":\"auto\",\"x\":[2022,2023,2024],\"xaxis\":\"x\",\"y\":[19.083333333333332,6.25,30.0],\"yaxis\":\"y\",\"type\":\"bar\"}],                        {\"template\":{\"data\":{\"histogram2dcontour\":[{\"type\":\"histogram2dcontour\",\"colorbar\":{\"outlinewidth\":0,\"ticks\":\"\"},\"colorscale\":[[0.0,\"#0d0887\"],[0.1111111111111111,\"#46039f\"],[0.2222222222222222,\"#7201a8\"],[0.3333333333333333,\"#9c179e\"],[0.4444444444444444,\"#bd3786\"],[0.5555555555555556,\"#d8576b\"],[0.6666666666666666,\"#ed7953\"],[0.7777777777777778,\"#fb9f3a\"],[0.8888888888888888,\"#fdca26\"],[1.0,\"#f0f921\"]]}],\"choropleth\":[{\"type\":\"choropleth\",\"colorbar\":{\"outlinewidth\":0,\"ticks\":\"\"}}],\"histogram2d\":[{\"type\":\"histogram2d\",\"colorbar\":{\"outlinewidth\":0,\"ticks\":\"\"},\"colorscale\":[[0.0,\"#0d0887\"],[0.1111111111111111,\"#46039f\"],[0.2222222222222222,\"#7201a8\"],[0.3333333333333333,\"#9c179e\"],[0.4444444444444444,\"#bd3786\"],[0.5555555555555556,\"#d8576b\"],[0.6666666666666666,\"#ed7953\"],[0.7777777777777778,\"#fb9f3a\"],[0.8888888888888888,\"#fdca26\"],[1.0,\"#f0f921\"]]}],\"heatmap\":[{\"type\":\"heatmap\",\"colorbar\":{\"outlinewidth\":0,\"ticks\":\"\"},\"colorscale\":[[0.0,\"#0d0887\"],[0.1111111111111111,\"#46039f\"],[0.2222222222222222,\"#7201a8\"],[0.3333333333333333,\"#9c179e\"],[0.4444444444444444,\"#bd3786\"],[0.5555555555555556,\"#d8576b\"],[0.6666666666666666,\"#ed7953\"],[0.7777777777777778,\"#fb9f3a\"],[0.8888888888888888,\"#fdca26\"],[1.0,\"#f0f921\"]]}],\"heatmapgl\":[{\"type\":\"heatmapgl\",\"colorbar\":{\"outlinewidth\":0,\"ticks\":\"\"},\"colorscale\":[[0.0,\"#0d0887\"],[0.1111111111111111,\"#46039f\"],[0.2222222222222222,\"#7201a8\"],[0.3333333333333333,\"#9c179e\"],[0.4444444444444444,\"#bd3786\"],[0.5555555555555556,\"#d8576b\"],[0.6666666666666666,\"#ed7953\"],[0.7777777777777778,\"#fb9f3a\"],[0.8888888888888888,\"#fdca26\"],[1.0,\"#f0f921\"]]}],\"contourcarpet\":[{\"type\":\"contourcarpet\",\"colorbar\":{\"outlinewidth\":0,\"ticks\":\"\"}}],\"contour\":[{\"type\":\"contour\",\"colorbar\":{\"outlinewidth\":0,\"ticks\":\"\"},\"colorscale\":[[0.0,\"#0d0887\"],[0.1111111111111111,\"#46039f\"],[0.2222222222222222,\"#7201a8\"],[0.3333333333333333,\"#9c179e\"],[0.4444444444444444,\"#bd3786\"],[0.5555555555555556,\"#d8576b\"],[0.6666666666666666,\"#ed7953\"],[0.7777777777777778,\"#fb9f3a\"],[0.8888888888888888,\"#fdca26\"],[1.0,\"#f0f921\"]]}],\"surface\":[{\"type\":\"surface\",\"colorbar\":{\"outlinewidth\":0,\"ticks\":\"\"},\"colorscale\":[[0.0,\"#0d0887\"],[0.1111111111111111,\"#46039f\"],[0.2222222222222222,\"#7201a8\"],[0.3333333333333333,\"#9c179e\"],[0.4444444444444444,\"#bd3786\"],[0.5555555555555556,\"#d8576b\"],[0.6666666666666666,\"#ed7953\"],[0.7777777777777778,\"#fb9f3a\"],[0.8888888888888888,\"#fdca26\"],[1.0,\"#f0f921\"]]}],\"mesh3d\":[{\"type\":\"mesh3d\",\"colorbar\":{\"outlinewidth\":0,\"ticks\":\"\"}}],\"scatter\":[{\"fillpattern\":{\"fillmode\":\"overlay\",\"size\":10,\"solidity\":0.2},\"type\":\"scatter\"}],\"parcoords\":[{\"type\":\"parcoords\",\"line\":{\"colorbar\":{\"outlinewidth\":0,\"ticks\":\"\"}}}],\"scatterpolargl\":[{\"type\":\"scatterpolargl\",\"marker\":{\"colorbar\":{\"outlinewidth\":0,\"ticks\":\"\"}}}],\"bar\":[{\"error_x\":{\"color\":\"#2a3f5f\"},\"error_y\":{\"color\":\"#2a3f5f\"},\"marker\":{\"line\":{\"color\":\"#E5ECF6\",\"width\":0.5},\"pattern\":{\"fillmode\":\"overlay\",\"size\":10,\"solidity\":0.2}},\"type\":\"bar\"}],\"scattergeo\":[{\"type\":\"scattergeo\",\"marker\":{\"colorbar\":{\"outlinewidth\":0,\"ticks\":\"\"}}}],\"scatterpolar\":[{\"type\":\"scatterpolar\",\"marker\":{\"colorbar\":{\"outlinewidth\":0,\"ticks\":\"\"}}}],\"histogram\":[{\"marker\":{\"pattern\":{\"fillmode\":\"overlay\",\"size\":10,\"solidity\":0.2}},\"type\":\"histogram\"}],\"scattergl\":[{\"type\":\"scattergl\",\"marker\":{\"colorbar\":{\"outlinewidth\":0,\"ticks\":\"\"}}}],\"scatter3d\":[{\"type\":\"scatter3d\",\"line\":{\"colorbar\":{\"outlinewidth\":0,\"ticks\":\"\"}},\"marker\":{\"colorbar\":{\"outlinewidth\":0,\"ticks\":\"\"}}}],\"scattermapbox\":[{\"type\":\"scattermapbox\",\"marker\":{\"colorbar\":{\"outlinewidth\":0,\"ticks\":\"\"}}}],\"scatterternary\":[{\"type\":\"scatterternary\",\"marker\":{\"colorbar\":{\"outlinewidth\":0,\"ticks\":\"\"}}}],\"scattercarpet\":[{\"type\":\"scattercarpet\",\"marker\":{\"colorbar\":{\"outlinewidth\":0,\"ticks\":\"\"}}}],\"carpet\":[{\"aaxis\":{\"endlinecolor\":\"#2a3f5f\",\"gridcolor\":\"white\",\"linecolor\":\"white\",\"minorgridcolor\":\"white\",\"startlinecolor\":\"#2a3f5f\"},\"baxis\":{\"endlinecolor\":\"#2a3f5f\",\"gridcolor\":\"white\",\"linecolor\":\"white\",\"minorgridcolor\":\"white\",\"startlinecolor\":\"#2a3f5f\"},\"type\":\"carpet\"}],\"table\":[{\"cells\":{\"fill\":{\"color\":\"#EBF0F8\"},\"line\":{\"color\":\"white\"}},\"header\":{\"fill\":{\"color\":\"#C8D4E3\"},\"line\":{\"color\":\"white\"}},\"type\":\"table\"}],\"barpolar\":[{\"marker\":{\"line\":{\"color\":\"#E5ECF6\",\"width\":0.5},\"pattern\":{\"fillmode\":\"overlay\",\"size\":10,\"solidity\":0.2}},\"type\":\"barpolar\"}],\"pie\":[{\"automargin\":true,\"type\":\"pie\"}]},\"layout\":{\"autotypenumbers\":\"strict\",\"colorway\":[\"#636efa\",\"#EF553B\",\"#00cc96\",\"#ab63fa\",\"#FFA15A\",\"#19d3f3\",\"#FF6692\",\"#B6E880\",\"#FF97FF\",\"#FECB52\"],\"font\":{\"color\":\"#2a3f5f\"},\"hovermode\":\"closest\",\"hoverlabel\":{\"align\":\"left\"},\"paper_bgcolor\":\"white\",\"plot_bgcolor\":\"#E5ECF6\",\"polar\":{\"bgcolor\":\"#E5ECF6\",\"angularaxis\":{\"gridcolor\":\"white\",\"linecolor\":\"white\",\"ticks\":\"\"},\"radialaxis\":{\"gridcolor\":\"white\",\"linecolor\":\"white\",\"ticks\":\"\"}},\"ternary\":{\"bgcolor\":\"#E5ECF6\",\"aaxis\":{\"gridcolor\":\"white\",\"linecolor\":\"white\",\"ticks\":\"\"},\"baxis\":{\"gridcolor\":\"white\",\"linecolor\":\"white\",\"ticks\":\"\"},\"caxis\":{\"gridcolor\":\"white\",\"linecolor\":\"white\",\"ticks\":\"\"}},\"coloraxis\":{\"colorbar\":{\"outlinewidth\":0,\"ticks\":\"\"}},\"colorscale\":{\"sequential\":[[0.0,\"#0d0887\"],[0.1111111111111111,\"#46039f\"],[0.2222222222222222,\"#7201a8\"],[0.3333333333333333,\"#9c179e\"],[0.4444444444444444,\"#bd3786\"],[0.5555555555555556,\"#d8576b\"],[0.6666666666666666,\"#ed7953\"],[0.7777777777777778,\"#fb9f3a\"],[0.8888888888888888,\"#fdca26\"],[1.0,\"#f0f921\"]],\"sequentialminus\":[[0.0,\"#0d0887\"],[0.1111111111111111,\"#46039f\"],[0.2222222222222222,\"#7201a8\"],[0.3333333333333333,\"#9c179e\"],[0.4444444444444444,\"#bd3786\"],[0.5555555555555556,\"#d8576b\"],[0.6666666666666666,\"#ed7953\"],[0.7777777777777778,\"#fb9f3a\"],[0.8888888888888888,\"#fdca26\"],[1.0,\"#f0f921\"]],\"diverging\":[[0,\"#8e0152\"],[0.1,\"#c51b7d\"],[0.2,\"#de77ae\"],[0.3,\"#f1b6da\"],[0.4,\"#fde0ef\"],[0.5,\"#f7f7f7\"],[0.6,\"#e6f5d0\"],[0.7,\"#b8e186\"],[0.8,\"#7fbc41\"],[0.9,\"#4d9221\"],[1,\"#276419\"]]},\"xaxis\":{\"gridcolor\":\"white\",\"linecolor\":\"white\",\"ticks\":\"\",\"title\":{\"standoff\":15},\"zerolinecolor\":\"white\",\"automargin\":true,\"zerolinewidth\":2},\"yaxis\":{\"gridcolor\":\"white\",\"linecolor\":\"white\",\"ticks\":\"\",\"title\":{\"standoff\":15},\"zerolinecolor\":\"white\",\"automargin\":true,\"zerolinewidth\":2},\"scene\":{\"xaxis\":{\"backgroundcolor\":\"#E5ECF6\",\"gridcolor\":\"white\",\"linecolor\":\"white\",\"showbackground\":true,\"ticks\":\"\",\"zerolinecolor\":\"white\",\"gridwidth\":2},\"yaxis\":{\"backgroundcolor\":\"#E5ECF6\",\"gridcolor\":\"white\",\"linecolor\":\"white\",\"showbackground\":true,\"ticks\":\"\",\"zerolinecolor\":\"white\",\"gridwidth\":2},\"zaxis\":{\"backgroundcolor\":\"#E5ECF6\",\"gridcolor\":\"white\",\"linecolor\":\"white\",\"showbackground\":true,\"ticks\":\"\",\"zerolinecolor\":\"white\",\"gridwidth\":2}},\"shapedefaults\":{\"line\":{\"color\":\"#2a3f5f\"}},\"annotationdefaults\":{\"arrowcolor\":\"#2a3f5f\",\"arrowhead\":0,\"arrowwidth\":1},\"geo\":{\"bgcolor\":\"white\",\"landcolor\":\"#E5ECF6\",\"subunitcolor\":\"white\",\"showland\":true,\"showlakes\":true,\"lakecolor\":\"white\"},\"title\":{\"x\":0.05},\"mapbox\":{\"style\":\"light\"}}},\"xaxis\":{\"anchor\":\"y\",\"domain\":[0.0,1.0],\"title\":{\"text\":\"Date\"}},\"yaxis\":{\"anchor\":\"x\",\"domain\":[0.0,1.0],\"title\":{\"text\":\"Cost\"}},\"legend\":{\"title\":{\"text\":\"Category\"},\"tracegroupgap\":0},\"margin\":{\"t\":60},\"barmode\":\"relative\",\"height\":800},                        {\"responsive\": true}                    ).then(function(){\n",
       "                            \n",
       "var gd = document.getElementById('dc154c12-4dcb-4815-85bf-d535a0f6d11f');\n",
       "var x = new MutationObserver(function (mutations, observer) {{\n",
       "        var display = window.getComputedStyle(gd).display;\n",
       "        if (!display || display === 'none') {{\n",
       "            console.log([gd, 'removed!']);\n",
       "            Plotly.purge(gd);\n",
       "            observer.disconnect();\n",
       "        }}\n",
       "}});\n",
       "\n",
       "// Listen for the removal of the full notebook cells\n",
       "var notebookContainer = gd.closest('#notebook-container');\n",
       "if (notebookContainer) {{\n",
       "    x.observe(notebookContainer, {childList: true});\n",
       "}}\n",
       "\n",
       "// Listen for the clearing of the current output cell\n",
       "var outputEl = gd.closest('.output');\n",
       "if (outputEl) {{\n",
       "    x.observe(outputEl, {childList: true});\n",
       "}}\n",
       "\n",
       "                        })                };                });            </script>        </div>"
      ]
     },
     "metadata": {},
     "output_type": "display_data"
    }
   ],
   "source": [
    "px.bar((df.groupby(by=[\"Category\", df['Date'].dt.year])[\"Cost\"].sum() / 12).reset_index(), x=\"Date\", y=\"Cost\", color=\"Category\", height=800)"
   ]
  }
 ],
 "metadata": {
  "kernelspec": {
   "display_name": "Python 3 (ipykernel)",
   "language": "python",
   "name": "python3"
  },
  "language_info": {
   "codemirror_mode": {
    "name": "ipython",
    "version": 3
   },
   "file_extension": ".py",
   "mimetype": "text/x-python",
   "name": "python",
   "nbconvert_exporter": "python",
   "pygments_lexer": "ipython3",
   "version": "3.11.7"
  }
 },
 "nbformat": 4,
 "nbformat_minor": 5
}
